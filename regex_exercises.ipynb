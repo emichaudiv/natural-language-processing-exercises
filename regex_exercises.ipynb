{
 "cells": [
  {
   "cell_type": "code",
   "execution_count": 1,
   "id": "c0bb8140",
   "metadata": {},
   "outputs": [],
   "source": [
    "import pandas as pd\n",
    "import re"
   ]
  },
  {
   "cell_type": "code",
   "execution_count": 2,
   "id": "cc3caa12",
   "metadata": {},
   "outputs": [],
   "source": [
    "subject = \"The quick brown fox jumped over the lazy dog 42 times\""
   ]
  },
  {
   "cell_type": "code",
   "execution_count": 17,
   "id": "6966116f",
   "metadata": {},
   "outputs": [],
   "source": [
    "def is_vowel():\n",
    "    regex = r'[aeiou]'\n",
    "    return(re.findall(regex,subject))"
   ]
  },
  {
   "cell_type": "code",
   "execution_count": 18,
   "id": "cd877867",
   "metadata": {},
   "outputs": [
    {
     "data": {
      "text/plain": [
       "['e', 'u', 'i', 'o', 'o', 'u', 'e', 'o', 'e', 'e', 'a', 'o', 'i', 'e']"
      ]
     },
     "execution_count": 18,
     "metadata": {},
     "output_type": "execute_result"
    }
   ],
   "source": [
    "is_vowel()"
   ]
  },
  {
   "cell_type": "code",
   "execution_count": 28,
   "id": "0f25159d",
   "metadata": {},
   "outputs": [],
   "source": [
    "subject = \"me_bill009\"\n",
    "def is_valid_username():\n",
    "    regex = r'[a-z]+'\n",
    "    if re.findall(regex,subject) == regex:\n",
    "        return True\n",
    "    else:\n",
    "        return False"
   ]
  },
  {
   "cell_type": "code",
   "execution_count": 29,
   "id": "d23728bc",
   "metadata": {},
   "outputs": [
    {
     "data": {
      "text/plain": [
       "False"
      ]
     },
     "execution_count": 29,
     "metadata": {},
     "output_type": "execute_result"
    }
   ],
   "source": [
    "is_valid_username()"
   ]
  },
  {
   "cell_type": "code",
   "execution_count": 49,
   "id": "1a5ac515",
   "metadata": {},
   "outputs": [
    {
     "data": {
      "text/plain": [
       "['2223334444']"
      ]
     },
     "execution_count": 49,
     "metadata": {},
     "output_type": "execute_result"
    }
   ],
   "source": [
    "subject = \"2223334444\"\n",
    "regex = r'\\d+'\n",
    "re.findall(regex,subject)"
   ]
  },
  {
   "cell_type": "code",
   "execution_count": 50,
   "id": "4341ee64",
   "metadata": {},
   "outputs": [
    {
     "data": {
      "text/plain": [
       "[]"
      ]
     },
     "execution_count": 50,
     "metadata": {},
     "output_type": "execute_result"
    }
   ],
   "source": [
    "subject = \"2025/12/24\"\n",
    "regex = r'\\d+2\\d+3\\d+1'\n",
    "re.findall(regex,subject)"
   ]
  },
  {
   "cell_type": "code",
   "execution_count": 55,
   "id": "dbf9356a",
   "metadata": {},
   "outputs": [],
   "source": [
    "subject = 'GET /api/v1/sales?page=86 [16/Apr/2019:193452+0000] HTTP/1.1 {200} 510348 \"python-requests/2.21.0\" 97.105.19.58\\\n",
    "POST /users_accounts/file-upload [16/Apr/2019:193452+0000] HTTP/1.1 {201} 42 \"User-Agent: Mozilla/5.0 (X11; Fedora; Fedora; Linux x86_64) AppleWebKit/537.36 (KHTML, like Gecko) Chrome/73.0.3683.86 Safari/537.36\" 97.105.19.58\\\n",
    "GET /api/v1/items?page=3 [16/Apr/2019:193453+0000] HTTP/1.1 {429} 3561 \"python-requests/2.21.0\" 97.105.19.58'\n"
   ]
  },
  {
   "cell_type": "code",
   "execution_count": 59,
   "id": "b94ac6aa",
   "metadata": {},
   "outputs": [
    {
     "data": {
      "text/plain": [
       "['1',\n",
       " '8',\n",
       " '6',\n",
       " '1',\n",
       " '6',\n",
       " '2',\n",
       " '0',\n",
       " '1',\n",
       " '9',\n",
       " '1',\n",
       " '9',\n",
       " '3',\n",
       " '4',\n",
       " '5',\n",
       " '2',\n",
       " '+',\n",
       " '0',\n",
       " '0',\n",
       " '0',\n",
       " '0',\n",
       " '1',\n",
       " '1',\n",
       " '2',\n",
       " '0',\n",
       " '0',\n",
       " '5',\n",
       " '1',\n",
       " '0',\n",
       " '3',\n",
       " '4',\n",
       " '8',\n",
       " '2',\n",
       " '2',\n",
       " '1',\n",
       " '0',\n",
       " '9',\n",
       " '7',\n",
       " '1',\n",
       " '0',\n",
       " '5',\n",
       " '1',\n",
       " '9',\n",
       " '5',\n",
       " '8',\n",
       " '1',\n",
       " '6',\n",
       " '2',\n",
       " '0',\n",
       " '1',\n",
       " '9',\n",
       " '1',\n",
       " '9',\n",
       " '3',\n",
       " '4',\n",
       " '5',\n",
       " '2',\n",
       " '+',\n",
       " '0',\n",
       " '0',\n",
       " '0',\n",
       " '0',\n",
       " '1',\n",
       " '1',\n",
       " '2',\n",
       " '0',\n",
       " '1',\n",
       " '4',\n",
       " '2',\n",
       " '5',\n",
       " '0',\n",
       " '1',\n",
       " '1',\n",
       " '8',\n",
       " '6',\n",
       " '6',\n",
       " '4',\n",
       " '5',\n",
       " '3',\n",
       " '7',\n",
       " '3',\n",
       " '6',\n",
       " '7',\n",
       " '3',\n",
       " '0',\n",
       " '3',\n",
       " '6',\n",
       " '8',\n",
       " '3',\n",
       " '8',\n",
       " '6',\n",
       " '5',\n",
       " '3',\n",
       " '7',\n",
       " '3',\n",
       " '6',\n",
       " '9',\n",
       " '7',\n",
       " '1',\n",
       " '0',\n",
       " '5',\n",
       " '1',\n",
       " '9',\n",
       " '5',\n",
       " '8',\n",
       " '1',\n",
       " '3',\n",
       " '1',\n",
       " '6',\n",
       " '2',\n",
       " '0',\n",
       " '1',\n",
       " '9',\n",
       " '1',\n",
       " '9',\n",
       " '3',\n",
       " '4',\n",
       " '5',\n",
       " '3',\n",
       " '+',\n",
       " '0',\n",
       " '0',\n",
       " '0',\n",
       " '0',\n",
       " '1',\n",
       " '1',\n",
       " '4',\n",
       " '2',\n",
       " '9',\n",
       " '3',\n",
       " '5',\n",
       " '6',\n",
       " '1',\n",
       " '2',\n",
       " '2',\n",
       " '1',\n",
       " '0',\n",
       " '9',\n",
       " '7',\n",
       " '1',\n",
       " '0',\n",
       " '5',\n",
       " '1',\n",
       " '9',\n",
       " '5',\n",
       " '8']"
      ]
     },
     "execution_count": 59,
     "metadata": {},
     "output_type": "execute_result"
    }
   ],
   "source": [
    "regex = r'[\\d+]'\n",
    "re.findall(regex,subject)"
   ]
  },
  {
   "cell_type": "code",
   "execution_count": null,
   "id": "f62fce48",
   "metadata": {},
   "outputs": [],
   "source": []
  }
 ],
 "metadata": {
  "kernelspec": {
   "display_name": "Python 3 (ipykernel)",
   "language": "python",
   "name": "python3"
  },
  "language_info": {
   "codemirror_mode": {
    "name": "ipython",
    "version": 3
   },
   "file_extension": ".py",
   "mimetype": "text/x-python",
   "name": "python",
   "nbconvert_exporter": "python",
   "pygments_lexer": "ipython3",
   "version": "3.9.13"
  }
 },
 "nbformat": 4,
 "nbformat_minor": 5
}
